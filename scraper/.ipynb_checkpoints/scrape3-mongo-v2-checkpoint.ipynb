{
 "cells": [
  {
   "cell_type": "code",
   "execution_count": 1,
   "metadata": {
    "collapsed": true
   },
   "outputs": [],
   "source": [
    "from bs4 import BeautifulSoup\n",
    "import pymongo\n",
    "import requests\n",
    "import re\n",
    "import sys"
   ]
  },
  {
   "cell_type": "code",
   "execution_count": 2,
   "metadata": {
    "collapsed": true
   },
   "outputs": [],
   "source": [
    "# Create mongodb connection\n",
    "from pymongo import MongoClient\n",
    "connection = MongoClient('localhost', 27017)\n",
    "database = connection.housing_data\n",
    "\n",
    "table = database.etuovi\n",
    "\n",
    "#table.drop() to drop the collection 'housing_data'\n",
    "\n",
    "cookie = {'org.springframework.mobile.device.site.CookieSitePreferenceRepository.SITE_PREFERENCE':'NORMAL','JSESSIONID':'183EE2F12C128B603790A0D5D1558022','evid_0006':'87ccc59d-4b80-489f-98cf-be92d6591fa6','evid_0006_ref':'false','adptseg_0006':'kv1001#a-kv1002#c-kv1003#d-kv1004#d-kv1005#c-kv1006#a:b-kv1008#c-kv1009#17-kv1010#b-kv1011#f-kv1012#c-kv1013#a-kv1016#1:11:13:2:7-kv1017#2-','adptset_0006':'1','evid_0006_set':'2','__utma':'82691985.304271103.1385626909.1385642039.1385658686.4','__utmb':'82691985.9.8.1385658723878','__utmc':'82691985','__utmz':'82691985.1385626909.1.1.utmcsr=kuluttaja.etuovi.com|utmccn=(referral)|utmcmd=referral|utmcct=/crometapp/product/realties/common/public/frontpage2/search_in_progress_to_vuokraovi.jsp','slbp_80':'2265258762.20480.0000','slbp_443':'2265258762.47873.0000'}\n",
    "\n",
    "data_added = 0"
   ]
  },
  {
   "cell_type": "code",
   "execution_count": 9,
   "metadata": {},
   "outputs": [
    {
     "name": "stdout",
     "output_type": "stream",
     "text": [
      "Parsing page: 1\n",
      "Parsing page: 2\n",
      "Parsing page: 3\n",
      "Parsing page: 4\n",
      "Parsing page: 5\n",
      "Parsing page: 6\n",
      "Parsing page: 7\n",
      "Parsing page: 8\n",
      "Parsing page: 9\n",
      "['/vuokra-asunto/oulu/heinapaa/kerrostalo/663217?entryPoint=fromSearch&rentalIndex=1', '/vuokra-asunto/tampere/keskusta/kerrostalo/663216?entryPoint=fromSearch&rentalIndex=2', '/vuokra-asunto/helsinki/hermanni/kerrostalo/663214?entryPoint=fromSearch&rentalIndex=3', '/vuokra-asunto/joensuu/rantakyla/kerrostalo/663209?entryPoint=fromSearch&rentalIndex=4', '/vuokra-asunto/kajaani/linnantaus/kerrostalo/663212?entryPoint=fromSearch&rentalIndex=5', '/vuokra-asunto/jarvenpaa/poytaalho/kerrostalo/663211?entryPoint=fromSearch&rentalIndex=6', '/vuokra-asunto/helsinki/pitajanmaki/kerrostalo/663210?entryPoint=fromSearch&rentalIndex=7', '/vuokra-asunto/jarvenpaa/pajala/kerrostalo/564315?entryPoint=fromSearch&rentalIndex=8', '/vuokra-asunto/vantaa/leinela/kerrostalo/509657?entryPoint=fromSearch&rentalIndex=9', '/vuokra-asunto/helsinki/etu-toolo/kerrostalo/663203?entryPoint=fromSearch&rentalIndex=10', '/vuokra-asunto/lapua/liuhtari/rivitalo/663207?entryPoint=fromSearch&rentalIndex=11', '/vuokra-asunto/loviisa/omakotitalo/663206?entryPoint=fromSearch&rentalIndex=12', '/vuokra-asunto/helsinki/meilahti/kerrostalo/663205?entryPoint=fromSearch&rentalIndex=13', '/vuokra-asunto/lahti/mukkula/kerrostalo/663204?entryPoint=fromSearch&rentalIndex=14', '/vuokra-asunto/helsinki/meilahti/kerrostalo/663201?entryPoint=fromSearch&rentalIndex=15', '/vuokra-asunto/helsinki/punavuori/kerrostalo/663202?entryPoint=fromSearch&rentalIndex=16', '/vuokra-asunto/helsinki/eiranranta/kerrostalo/516601?entryPoint=fromSearch&rentalIndex=17', '/vuokra-asunto/helsinki/kannelmaki/kerrostalo/663200?entryPoint=fromSearch&rentalIndex=18', '/vuokra-asunto/turku/koivula/kerrostalo/663198?entryPoint=fromSearch&rentalIndex=19', '/vuokra-asunto/tampere/hatanpaa/kerrostalo/169585?entryPoint=fromSearch&rentalIndex=20', '/vuokra-asunto/sipoo/soderkulla/kerrostalo/663196?entryPoint=fromSearch&rentalIndex=21', '/vuokra-asunto/tampere/kalkku/luhtitalo/663194?entryPoint=fromSearch&rentalIndex=22', '/vuokra-asunto/tampere/kalkku/kerrostalo/663192?entryPoint=fromSearch&rentalIndex=23', '/vuokra-asunto/tampere/kalkku/kerrostalo/663186?entryPoint=fromSearch&rentalIndex=24', '/vuokra-asunto/helsinki/kerrostalo/663190?entryPoint=fromSearch&rentalIndex=25', '/vuokra-asunto/kauniainen/kerrostalo/663189?entryPoint=fromSearch&rentalIndex=26', '/vuokra-asunto/mikkeli/peitsari/kerrostalo/663188?entryPoint=fromSearch&rentalIndex=27', '/vuokra-asunto/helsinki/keskusta/kerrostalo/121100?entryPoint=fromSearch&rentalIndex=28', '/vuokra-asunto/pyhajoki/rivitalo/663187?entryPoint=fromSearch&rentalIndex=29', '/vuokra-asunto/turku/kerrostalo/519247?entryPoint=fromSearch&rentalIndex=30', '/vuokra-asunto/helsinki/herttoniemi/kerrostalo/487608?entryPoint=fromSearch&rentalIndex=31', '/vuokra-asunto/helsinki/kallio/kerrostalo/646179?entryPoint=fromSearch&rentalIndex=32', '/vuokra-asunto/helsinki/kerrostalo/155198?entryPoint=fromSearch&rentalIndex=33', '/vuokra-asunto/tampere/tampella/kerrostalo/470337?entryPoint=fromSearch&rentalIndex=34', '/vuokra-asunto/helsinki/kamppi/kerrostalo/316334?entryPoint=fromSearch&rentalIndex=35', '/vuokra-asunto/helsinki/kerrostalo/640966?entryPoint=fromSearch&rentalIndex=36', '/vuokra-asunto/espoo/leppavaara/kerrostalo/284296?entryPoint=fromSearch&rentalIndex=37', '/vuokra-asunto/lahti/keskusta/kerrostalo/249013?entryPoint=fromSearch&rentalIndex=38', '/vuokra-asunto/helsinki/kerrostalo/184625?entryPoint=fromSearch&rentalIndex=39', '/vuokra-asunto/vantaa/lentokentta/kerrostalo/498773?entryPoint=fromSearch&rentalIndex=40', '/vuokra-asunto/helsinki/kerrostalo/449949?entryPoint=fromSearch&rentalIndex=41', '/vuokra-asunto/vantaa/omakotitalo/313404?entryPoint=fromSearch&rentalIndex=42', '/vuokra-asunto/espoo/leppavaara/kerrostalo/275838?entryPoint=fromSearch&rentalIndex=43', '/vuokra-asunto/helsinki/kamppi/kerrostalo/319714?entryPoint=fromSearch&rentalIndex=44', '/vuokra-asunto/pieksamaki/keskusta/kerrostalo/663181?entryPoint=fromSearch&rentalIndex=45', '/vuokra-asunto/espoo/leppavaara/kerrostalo/600458?entryPoint=fromSearch&rentalIndex=46', '/vuokra-asunto/helsinki/pihlajamaki/kerrostalo/512319?entryPoint=fromSearch&rentalIndex=47', '/vuokra-asunto/tampere/harmalanranta/kerrostalo/663183?entryPoint=fromSearch&rentalIndex=48', '/vuokra-asunto/helsinki/aurinkolahti/kerrostalo/663182?entryPoint=fromSearch&rentalIndex=49', '/vuokra-asunto/espoo/lintuvaara/kerrostalo/663184?entryPoint=fromSearch&rentalIndex=50', '/vuokra-asunto/vantaa/mikkola/kerrostalo/521065?entryPoint=fromSearch&rentalIndex=51', '/vuokra-asunto/vihti/nummela/kerrostalo/662541?entryPoint=fromSearch&rentalIndex=52', '/vuokra-asunto/kuopio/puijonlaakso/kerrostalo/663179?entryPoint=fromSearch&rentalIndex=53', '/vuokra-asunto/kerava/jaakkola/kerrostalo/625484?entryPoint=fromSearch&rentalIndex=54', '/vuokra-asunto/helsinki/vuosaari/kerrostalo/616209?entryPoint=fromSearch&rentalIndex=55', '/vuokra-asunto/helsinki/puotila/kerrostalo/565701?entryPoint=fromSearch&rentalIndex=56', '/vuokra-asunto/espoo/tapiola/kerrostalo/293217?entryPoint=fromSearch&rentalIndex=57', '/vuokra-asunto/espoo/laajalahti/kerrostalo/265084?entryPoint=fromSearch&rentalIndex=58', '/vuokra-asunto/seinajoki/keskusta/kerrostalo/663178?entryPoint=fromSearch&rentalIndex=59', '/vuokra-asunto/helsinki/suurmetsa/kerrostalo/663176?entryPoint=fromSearch&rentalIndex=60', '/vuokra-asunto/seinajoki/hallila/kerrostalo/663177?entryPoint=fromSearch&rentalIndex=61', '/vuokra-asunto/oulu/kivikkokangas/rivitalo/663173?entryPoint=fromSearch&rentalIndex=62', '/vuokra-asunto/espoo/westend/kerrostalo/663174?entryPoint=fromSearch&rentalIndex=63', '/vuokra-asunto/tampere/keskusta/kerrostalo/663172?entryPoint=fromSearch&rentalIndex=64', '/vuokra-asunto/lahti/paavola/kerrostalo/663171?entryPoint=fromSearch&rentalIndex=65', '/vuokra-asunto/tampere/keskusta/kerrostalo/663170?entryPoint=fromSearch&rentalIndex=66', '/vuokra-asunto/pietarsaari/kerrostalo/663169?entryPoint=fromSearch&rentalIndex=67', '/vuokra-asunto/joensuu/rantakyla/kerrostalo/663168?entryPoint=fromSearch&rentalIndex=68', '/vuokra-asunto/helsinki/kannelmaki/kerrostalo/663166?entryPoint=fromSearch&rentalIndex=69', '/vuokra-asunto/lahti/asemantausta/kerrostalo/663163?entryPoint=fromSearch&rentalIndex=70', '/vuokra-asunto/lahti/paavola/kerrostalo/663162?entryPoint=fromSearch&rentalIndex=71', '/vuokra-asunto/nurmijarvi/kirkonkyla/rivitalo/663164?entryPoint=fromSearch&rentalIndex=72', '/vuokra-asunto/kokkola/omakotitalo/663160?entryPoint=fromSearch&rentalIndex=73', '/vuokra-asunto/turku/martti/kerrostalo/663159?entryPoint=fromSearch&rentalIndex=74', '/vuokra-asunto/helsinki/kontula/kerrostalo/663157?entryPoint=fromSearch&rentalIndex=75', '/vuokra-asunto/naantali/keskusta/kerrostalo/663154?entryPoint=fromSearch&rentalIndex=76', '/vuokra-asunto/tuusula/hyryla/luhtitalo/663148?entryPoint=fromSearch&rentalIndex=77', '/vuokra-asunto/tampere/vuores/luhtitalo/663153?entryPoint=fromSearch&rentalIndex=78', '/vuokra-asunto/varkaus/kommila/kerrostalo/663151?entryPoint=fromSearch&rentalIndex=79', '/vuokra-asunto/varkaus/kommila/kerrostalo/663149?entryPoint=fromSearch&rentalIndex=80', '/vuokra-asunto/kokkola/keskusta/kerrostalo/663150?entryPoint=fromSearch&rentalIndex=81', '/vuokra-asunto/helsinki/aurinkolahti/kerrostalo/663145?entryPoint=fromSearch&rentalIndex=82', '/vuokra-asunto/helsinki/aurinkolahti/kerrostalo/663147?entryPoint=fromSearch&rentalIndex=83', '/vuokra-asunto/helsinki/aurinkolahti/kerrostalo/663144?entryPoint=fromSearch&rentalIndex=84', '/vuokra-asunto/helsinki/aurinkolahti/kerrostalo/663146?entryPoint=fromSearch&rentalIndex=85', '/vuokra-asunto/tampere/tesoma/kerrostalo/662621?entryPoint=fromSearch&rentalIndex=86', '/vuokra-asunto/tampere/tesoma/kerrostalo/662621?entryPoint=fromSearch&rentalIndex=86', '/vuokra-asunto/vantaa/tikkurila/kerrostalo/663142?entryPoint=fromSearch&rentalIndex=87', '/vuokra-asunto/nurmijarvi/kerrostalo/663143?entryPoint=fromSearch&rentalIndex=88', '/vuokra-asunto/raasepori/bromarv/kerrostalo/663141?entryPoint=fromSearch&rentalIndex=89', '/vuokra-asunto/jarvenpaa/loutti/omakotitalo/663138?entryPoint=fromSearch&rentalIndex=90', '/vuokra-asunto/helsinki/kerrostalo/663139?entryPoint=fromSearch&rentalIndex=91', '/vuokra-asunto/turku/keskusta/kerrostalo/663135?entryPoint=fromSearch&rentalIndex=92', '/vuokra-asunto/tampere/kaukajarvi/kerrostalo/663128?entryPoint=fromSearch&rentalIndex=93', '/vuokra-asunto/vantaa/viertola/kerrostalo/542677?entryPoint=fromSearch&rentalIndex=94', '/vuokra-asunto/pori/riihiketo/kerrostalo/663133?entryPoint=fromSearch&rentalIndex=95', '/vuokra-asunto/varkaus/leunanmaki/kerrostalo/663132?entryPoint=fromSearch&rentalIndex=96', '/vuokra-asunto/tampere/amuri/kerrostalo/663131?entryPoint=fromSearch&rentalIndex=97', '/vuokra-asunto/jyvaskyla/palokka/kerrostalo/663127?entryPoint=fromSearch&rentalIndex=98', '/vuokra-asunto/tampere/haukiluoma/kerrostalo/170359?entryPoint=fromSearch&rentalIndex=99', '/vuokra-asunto/kuopio/sarkilahti/kerrostalo/663126?entryPoint=fromSearch&rentalIndex=100', '/vuokra-asunto/helsinki/tapulikaupunki/kerrostalo/176828?entryPoint=fromSearch&rentalIndex=101', '/vuokra-asunto/tampere/harmala/kerrostalo/520822?entryPoint=fromSearch&rentalIndex=102', '/vuokra-asunto/tampere/kaukajarvi/rivitalo/432760?entryPoint=fromSearch&rentalIndex=103', '/vuokra-asunto/vantaa/myyrmaki/kerrostalo/663125?entryPoint=fromSearch&rentalIndex=104', '/vuokra-asunto/espoo/espoonlahti/kerrostalo/528401?entryPoint=fromSearch&rentalIndex=105', '/vuokra-asunto/vantaa/koivuhaka/kerrostalo/523372?entryPoint=fromSearch&rentalIndex=106', '/vuokra-asunto/kuopio/saaristokaupunki/kerrostalo/591002?entryPoint=fromSearch&rentalIndex=107', '/vuokra-asunto/helsinki/lauttasaari/kerrostalo/663092?entryPoint=fromSearch&rentalIndex=108', '/vuokra-asunto/forssa/keskusta/kerrostalo/663124?entryPoint=fromSearch&rentalIndex=109', '/vuokra-asunto/helsinki/lauttasaari/kerrostalo/663123?entryPoint=fromSearch&rentalIndex=110', '/vuokra-asunto/kerava/keskusta/kerrostalo/663122?entryPoint=fromSearch&rentalIndex=111', '/vuokra-asunto/espoo/kerrostalo/663121?entryPoint=fromSearch&rentalIndex=112', '/vuokra-asunto/turku/keskusta/kerrostalo/663120?entryPoint=fromSearch&rentalIndex=113', '/vuokra-asunto/valkeakoski/omakotitalo/663119?entryPoint=fromSearch&rentalIndex=114', '/vuokra-asunto/pori/vainola/kerrostalo/663116?entryPoint=fromSearch&rentalIndex=115', '/vuokra-asunto/pori/sampola/kerrostalo/663117?entryPoint=fromSearch&rentalIndex=116', '/vuokra-asunto/pori/kerrostalo/663118?entryPoint=fromSearch&rentalIndex=117', '/vuokra-asunto/kerava/ahjo/kerrostalo/663018?entryPoint=fromSearch&rentalIndex=118', '/vuokra-asunto/ylojarvi/makkyla/kerrostalo/663115?entryPoint=fromSearch&rentalIndex=119', '/vuokra-asunto/oulu/vartto/kerrostalo/663113?entryPoint=fromSearch&rentalIndex=120', '/vuokra-asunto/helsinki/alppila/kerrostalo/663111?entryPoint=fromSearch&rentalIndex=121', '/vuokra-asunto/vihti/pappila/kerrostalo/663108?entryPoint=fromSearch&rentalIndex=122', '/vuokra-asunto/tampere/keskusta/kerrostalo/663109?entryPoint=fromSearch&rentalIndex=123', '/vuokra-asunto/helsinki/tapulikaupunki/kerrostalo/233135?entryPoint=fromSearch&rentalIndex=124', '/vuokra-asunto/helsinki/tapulikaupunki/kerrostalo/200880?entryPoint=fromSearch&rentalIndex=125', '/vuokra-asunto/joensuu/niinivaara/kerrostalo/663110?entryPoint=fromSearch&rentalIndex=126', '/vuokra-asunto/pori/kerrostalo/601992?entryPoint=fromSearch&rentalIndex=127', '/vuokra-asunto/ylojarvi/kirkonseutu/kerrostalo/663107?entryPoint=fromSearch&rentalIndex=128', '/vuokra-asunto/mikkeli/siekkila/kerrostalo/663105?entryPoint=fromSearch&rentalIndex=129', '/vuokra-asunto/kerava/kerrostalo/663104?entryPoint=fromSearch&rentalIndex=130', '/vuokra-asunto/pori/keskusta/kerrostalo/663101?entryPoint=fromSearch&rentalIndex=131', '/vuokra-asunto/sipoo/soderkulla/kerrostalo/663103?entryPoint=fromSearch&rentalIndex=132', '/vuokra-asunto/tampere/tohloppi/kerrostalo/594460?entryPoint=fromSearch&rentalIndex=133', '/vuokra-asunto/tampere/hervanta/kerrostalo/642646?entryPoint=fromSearch&rentalIndex=134', '/vuokra-asunto/vantaa/hiekkaharju/kerrostalo/663098?entryPoint=fromSearch&rentalIndex=135', '/vuokra-asunto/haapavesi/keskusta/rivitalo/229756?entryPoint=fromSearch&rentalIndex=136', '/vuokra-asunto/kouvola/keskusta/kerrostalo/165898?entryPoint=fromSearch&rentalIndex=137', '/vuokra-asunto/kouvola/keskusta/kerrostalo/663102?entryPoint=fromSearch&rentalIndex=138', '/vuokra-asunto/kouvola/keskusta/kerrostalo/164484?entryPoint=fromSearch&rentalIndex=139', '/vuokra-asunto/lahti/patomaki/rivitalo/220902?entryPoint=fromSearch&rentalIndex=140', '/vuokra-asunto/pori/keskusta/kerrostalo/663096?entryPoint=fromSearch&rentalIndex=141', '/vuokra-asunto/vantaa/malminiitty/kerrostalo/541969?entryPoint=fromSearch&rentalIndex=142', '/vuokra-asunto/vantaa/jokiniemi/kerrostalo/235588?entryPoint=fromSearch&rentalIndex=143', '/vuokra-asunto/helsinki/malmi/kerrostalo/169006?entryPoint=fromSearch&rentalIndex=144', '/vuokra-asunto/vantaa/lansimaki/kerrostalo/663099?entryPoint=fromSearch&rentalIndex=145', '/vuokra-asunto/helsinki/malmi/kerrostalo/209060?entryPoint=fromSearch&rentalIndex=146', '/vuokra-asunto/vantaa/malminiitty/kerrostalo/291458?entryPoint=fromSearch&rentalIndex=147', '/vuokra-asunto/lahti/horola/kerrostalo/663093?entryPoint=fromSearch&rentalIndex=148', '/vuokra-asunto/lahti/keskusta/kerrostalo/663094?entryPoint=fromSearch&rentalIndex=149', '/vuokra-asunto/tampere/tesoma/kerrostalo/663091?entryPoint=fromSearch&rentalIndex=150', '/vuokra-asunto/ylivieska/kerrostalo/663090?entryPoint=fromSearch&rentalIndex=151', '/vuokra-asunto/salo/pahkavuori/kerrostalo/663089?entryPoint=fromSearch&rentalIndex=152', '/vuokra-asunto/salo/ollikkala/kerrostalo/663088?entryPoint=fromSearch&rentalIndex=153', '/vuokra-asunto/helsinki/vuosaari/kerrostalo/663087?entryPoint=fromSearch&rentalIndex=154', '/vuokra-asunto/tampere/linnainmaa/luhtitalo/663086?entryPoint=fromSearch&rentalIndex=155', '/vuokra-asunto/tampere/lintulampi/rivitalo/663085?entryPoint=fromSearch&rentalIndex=156', '/vuokra-asunto/imatra/onnela/omakotitalo/653679?entryPoint=fromSearch&rentalIndex=157', '/vuokra-asunto/askola/omakotitalo/663083?entryPoint=fromSearch&rentalIndex=158', '/vuokra-asunto/kemi/kerrostalo/663084?entryPoint=fromSearch&rentalIndex=159', '/vuokra-asunto/tampere/rahola/kerrostalo/663082?entryPoint=fromSearch&rentalIndex=160', '/vuokra-asunto/vantaa/hakunila/kerrostalo/663078?entryPoint=fromSearch&rentalIndex=161', '/vuokra-asunto/vantaa/martinlaakso/kerrostalo/246657?entryPoint=fromSearch&rentalIndex=162', '/vuokra-asunto/vantaa/jokiniemi/kerrostalo/238706?entryPoint=fromSearch&rentalIndex=163', '/vuokra-asunto/kuopio/rypysuo/kerrostalo/663081?entryPoint=fromSearch&rentalIndex=164', '/vuokra-asunto/vantaa/malminiitty/kerrostalo/625486?entryPoint=fromSearch&rentalIndex=165', '/vuokra-asunto/vantaa/pahkinarinne/kerrostalo/266791?entryPoint=fromSearch&rentalIndex=166', '/vuokra-asunto/vantaa/hakunila/kerrostalo/663080?entryPoint=fromSearch&rentalIndex=167', '/vuokra-asunto/vantaa/martinlaakso/kerrostalo/663079?entryPoint=fromSearch&rentalIndex=168', '/vuokra-asunto/espoo/matinkyla/kerrostalo/262418?entryPoint=fromSearch&rentalIndex=169', '/vuokra-asunto/vantaa/kaivoksela/kerrostalo/248852?entryPoint=fromSearch&rentalIndex=170', '/vuokra-asunto/tampere/harmala/kerrostalo/663077?entryPoint=fromSearch&rentalIndex=171', '/vuokra-asunto/rovaniemi/ounasrinne/kerrostalo/663076?entryPoint=fromSearch&rentalIndex=172', '/vuokra-asunto/kirkkonummi/sundsberg/paritalo/663064?entryPoint=fromSearch&rentalIndex=173', '/vuokra-asunto/hameenlinna/rivitalo/663073?entryPoint=fromSearch&rentalIndex=174', '/vuokra-asunto/tuusula/jokela/kerrostalo/663074?entryPoint=fromSearch&rentalIndex=175', '/vuokra-asunto/tuusula/jokela/kerrostalo/663075?entryPoint=fromSearch&rentalIndex=176', '/vuokra-asunto/hameenlinna/hatila/kerrostalo/663072?entryPoint=fromSearch&rentalIndex=177', '/vuokra-asunto/kaarina/kairiskulma/kerrostalo/663071?entryPoint=fromSearch&rentalIndex=178', '/vuokra-asunto/kotka/kotkansaari/kerrostalo/663069?entryPoint=fromSearch&rentalIndex=179', '/vuokra-asunto/salo/moisio/kerrostalo/663070?entryPoint=fromSearch&rentalIndex=180']\n"
     ]
    }
   ],
   "source": [
    "start_page = 1\n",
    "end_page = 10\n",
    "Links = []\n",
    "for page in range(start_page, end_page):\n",
    "    print ('Parsing page:', str(page))\n",
    "    html = requests.post('http://www.vuokraovi.com/vuokra-asunnot?page=' + str(page), cookies=cookie, data={'listorder':11})\n",
    "    \n",
    "    parsed_html = BeautifulSoup(html.text,'html.parser')     \n",
    "    #print(parsed_html.prettify()) \n",
    "    url_tag = parsed_html.find_all('a', {'class':'list-item-link'})\n",
    "    for link in url_tag:\n",
    "        address = link.get('href')\n",
    "        if '/vuokra-asunto' in address:\n",
    "            #print(address)\n",
    "            Links.append(address)\n",
    "\n",
    "print (Links)"
   ]
  },
  {
   "cell_type": "code",
   "execution_count": 10,
   "metadata": {},
   "outputs": [],
   "source": [
    "allApartments = []\n",
    "apartment = dict()\n",
    "for page in Links:\n",
    "    #print(page)\n",
    "    html = requests.post('http://www.vuokraovi.com' + page, cookies=cookie, data={'listorder':11})\n",
    "    parsed_html = BeautifulSoup(html.text,'html.parser') \n",
    "    #print(parsed_html)\n",
    "    apartment['renter'] = parsed_html.find('b').get_text(strip=True)\n",
    "    test_tagth = parsed_html.find_all('th')\n",
    "    test_tagtd = parsed_html.find_all('td')\n",
    "    apartment['postal_code'] = test_tagtd[0].find('span', {'itemprop':'addressLocality'}).get_text(strip = True)[:5]\n",
    "  \n",
    "    \n",
    "    for i in range(0,len(test_tagth)):\n",
    "        if 'Vakuus:' in test_tagth[i].get_text():\n",
    "            apartment['deposit'] = test_tagtd[i].get_text(strip = True)\n",
    "            \n",
    "        if 'Vuokra:' in test_tagth[i].get_text():\n",
    "            apartment['rent'] = test_tagtd[i].get_text(strip = True) \n",
    "            \n",
    "        if 'Tyyppi:' in test_tagth[i].get_text():\n",
    "            apartment['type'] = test_tagtd[i].get_text(strip = True)\n",
    "            \n",
    "        if 'Huoneiden lukumäärä' in test_tagth[i].get_text():\n",
    "            apartment['number_of_rooms'] = test_tagtd[i].get_text(strip = True)\n",
    "            \n",
    "        if 'Rakennusvuosi:' in test_tagth[i].get_text():\n",
    "            apartment['built_year'] = test_tagtd[i].get_text(strip = True)\n",
    "            \n",
    "        if 'Yleiskunto:' in test_tagth[i].get_text():\n",
    "            apartment['condition'] = test_tagtd[i].get_text(strip = True)\n",
    "            \n",
    "        if 'sallittu:' in test_tagth[i].get_text():\n",
    "            apartment['allow_pets'] = test_tagtd[i].get_text(strip = True)\n",
    "            \n",
    "        if 'pinta-ala:' in test_tagth[i].get_text():\n",
    "            apartment['total_size'] = test_tagtd[i].get_text(strip = True)\n",
    "     \n",
    "    try:\n",
    "        # Push the collected data to db.\n",
    "        table.insert_one({\n",
    "                'renter':apartment['renter'],\n",
    "                'postal_code': apartment['postal_code'],\n",
    "                'built_year': apartment['built_year'], \n",
    "                'type': apartment['type'],\n",
    "                'total_size': apartment['total_size'],\n",
    "                'number_of_rooms': apartment['number_of_rooms'],\n",
    "                'condition': apartment['condition'],\n",
    "                'rent': apartment['rent'],\n",
    "                'deposit': apartment['deposit'],\n",
    "                'allow_pets': apartment['allow_pets']          \n",
    "            }) \n",
    "        data_added += 1\n",
    "    except pymongo.errors.DuplicateKeyError:\n",
    "            pass\n",
    "    \n",
    "    \n",
    "    \n",
    "    #To check in mongodb on your laptop, install mongodb -> sudo service mongod start-> type mongo to open mongodb console -\n",
    "    # then 'use housing_data' -> db.etuovi.count() -- number of entries, db.etuovi.find() --check entries\n",
    "    \n",
    "    \n",
    "    # At the moment, for 9 pages, db.etuovi.count() = 181 i.e. 181 entries"
   ]
  },
  {
   "cell_type": "code",
   "execution_count": 16,
   "metadata": {},
   "outputs": [],
   "source": []
  }
 ],
 "metadata": {
  "kernelspec": {
   "display_name": "Python 3",
   "language": "python",
   "name": "python3"
  },
  "language_info": {
   "codemirror_mode": {
    "name": "ipython",
    "version": 3
   },
   "file_extension": ".py",
   "mimetype": "text/x-python",
   "name": "python",
   "nbconvert_exporter": "python",
   "pygments_lexer": "ipython3",
   "version": "3.5.2"
  }
 },
 "nbformat": 4,
 "nbformat_minor": 2
}
