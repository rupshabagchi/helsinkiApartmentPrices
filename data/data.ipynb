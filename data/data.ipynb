{
 "cells": [
  {
   "cell_type": "code",
   "execution_count": 1,
   "metadata": {
    "collapsed": true
   },
   "outputs": [],
   "source": [
    "import pandas as pd\n",
    "df = pd.read_json(\"apartment_data.json\", lines=True,dtype={'postal_code':str})\n",
    "del df['_id']\n",
    "df.to_csv('apartments_temp.csv')"
   ]
  },
  {
   "cell_type": "code",
   "execution_count": 3,
   "metadata": {
    "collapsed": true
   },
   "outputs": [],
   "source": [
    "valid_postcode = pd.read_csv(\"../data/testdata.csv\",dtype={'POSTI_ALUE':str})"
   ]
  },
  {
   "cell_type": "code",
   "execution_count": 26,
   "metadata": {},
   "outputs": [
    {
     "data": {
      "text/plain": [
       "0      False\n",
       "1      False\n",
       "2      False\n",
       "3      False\n",
       "4      False\n",
       "5      False\n",
       "6      False\n",
       "7       True\n",
       "8       True\n",
       "9       True\n",
       "10     False\n",
       "11     False\n",
       "12      True\n",
       "13      True\n",
       "14      True\n",
       "15      True\n",
       "16     False\n",
       "17      True\n",
       "18     False\n",
       "19     False\n",
       "20     False\n",
       "21     False\n",
       "22     False\n",
       "23     False\n",
       "24      True\n",
       "25     False\n",
       "26     False\n",
       "27     False\n",
       "28     False\n",
       "29     False\n",
       "       ...  \n",
       "531    False\n",
       "532    False\n",
       "533    False\n",
       "534     True\n",
       "535     True\n",
       "536    False\n",
       "537     True\n",
       "538     True\n",
       "539     True\n",
       "540     True\n",
       "541     True\n",
       "542    False\n",
       "543     True\n",
       "544     True\n",
       "545     True\n",
       "546     True\n",
       "547     True\n",
       "548    False\n",
       "549    False\n",
       "550    False\n",
       "551     True\n",
       "552     True\n",
       "553    False\n",
       "554     True\n",
       "555    False\n",
       "556    False\n",
       "557     True\n",
       "558    False\n",
       "559    False\n",
       "560    False\n",
       "Name: postal_code, Length: 561, dtype: bool"
      ]
     },
     "execution_count": 26,
     "metadata": {},
     "output_type": "execute_result"
    }
   ],
   "source": [
    "mask = df[df.'postal_code'.str.contains.]"
   ]
  }
 ],
 "metadata": {
  "kernelspec": {
   "display_name": "Python 3",
   "language": "python",
   "name": "python3"
  },
  "language_info": {
   "codemirror_mode": {
    "name": "ipython",
    "version": 3
   },
   "file_extension": ".py",
   "mimetype": "text/x-python",
   "name": "python",
   "nbconvert_exporter": "python",
   "pygments_lexer": "ipython3",
   "version": "3.5.2"
  }
 },
 "nbformat": 4,
 "nbformat_minor": 2
}
