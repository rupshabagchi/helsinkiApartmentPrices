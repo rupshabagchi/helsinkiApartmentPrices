{
 "cells": [
  {
   "cell_type": "code",
   "execution_count": 2,
   "metadata": {},
   "outputs": [
    {
     "name": "stdout",
     "output_type": "stream",
     "text": [
      "\u001b[1mProvide a starting and ending page.\u001b[0m\n",
      "Usage \"python scraper_etuovi.py [start_page] [end_page]\"\n"
     ]
    }
   ],
   "source": [
    "# Import pymongo for storing up values\n",
    "import pymongo\n",
    "# Import requests for making http requests.\n",
    "import requests\n",
    "# Import BeautifulSoup for handling html contents.\n",
    "from bs4 import BeautifulSoup\n",
    "# Import re for making regular experssions.\n",
    "import re\n",
    "# Import sys for reading arguments.\n",
    "import sys\n",
    "print(\"\\033[1mProvide a starting and ending page.\\033[0m\\nUsage \\\"python scraper_etuovi.py [start_page] [end_page]\\\"\")\n"
   ]
  },
  {
   "cell_type": "code",
   "execution_count": 4,
   "metadata": {
    "collapsed": true
   },
   "outputs": [],
   "source": [
    "#This is what will be added after http://www.vuokraovi.com/vuokra-asunnot?page=\n",
    "#I think the + 1 is there so that if there is for example 43 pages our code will try to access 44 and shut down.\n",
    "# not sure though\n",
    "start_page = 1\n",
    "end_page = 2 + 1"
   ]
  },
  {
   "cell_type": "code",
   "execution_count": 6,
   "metadata": {
    "collapsed": true
   },
   "outputs": [],
   "source": [
    "# Create mongodb connection\n",
    "from pymongo import MongoClient\n",
    "connection = MongoClient('localhost', 27017)\n",
    "#connection = Connection('localhost', 27017)\n",
    "\n",
    "database = connection.housing_data\n",
    "\n",
    "table = database.etuovi\n",
    "\n",
    "#table.remove() to remove everything\n",
    "\n",
    "cookie = {'org.springframework.mobile.device.site.CookieSitePreferenceRepository.SITE_PREFERENCE':'NORMAL','JSESSIONID':'183EE2F12C128B603790A0D5D1558022','evid_0006':'87ccc59d-4b80-489f-98cf-be92d6591fa6','evid_0006_ref':'false','adptseg_0006':'kv1001#a-kv1002#c-kv1003#d-kv1004#d-kv1005#c-kv1006#a:b-kv1008#c-kv1009#17-kv1010#b-kv1011#f-kv1012#c-kv1013#a-kv1016#1:11:13:2:7-kv1017#2-','adptset_0006':'1','evid_0006_set':'2','__utma':'82691985.304271103.1385626909.1385642039.1385658686.4','__utmb':'82691985.9.8.1385658723878','__utmc':'82691985','__utmz':'82691985.1385626909.1.1.utmcsr=kuluttaja.etuovi.com|utmccn=(referral)|utmcmd=referral|utmcct=/crometapp/product/realties/common/public/frontpage2/search_in_progress_to_vuokraovi.jsp','slbp_80':'2265258762.20480.0000','slbp_443':'2265258762.47873.0000'}\n",
    "\n",
    "data_added = 0\n",
    "data_existed = 0\n"
   ]
  },
  {
   "cell_type": "code",
   "execution_count": 3,
   "metadata": {},
   "outputs": [
    {
     "ename": "NameError",
     "evalue": "name 'start_page' is not defined",
     "traceback": [
      "\u001b[0;31m---------------------------------------------------------------------------\u001b[0m",
      "\u001b[0;31mNameError\u001b[0m                                 Traceback (most recent call last)",
      "\u001b[0;32m<ipython-input-3-1fe9b5f5d61a>\u001b[0m in \u001b[0;36m<module>\u001b[0;34m()\u001b[0m\n\u001b[1;32m      1\u001b[0m \u001b[0;31m# First we get data from the pages that list the apartments.\u001b[0m\u001b[0;34m\u001b[0m\u001b[0;34m\u001b[0m\u001b[0m\n\u001b[1;32m      2\u001b[0m \u001b[0;31m# Ex. http://www.vuokraovi.com/vuokra-asunnot?page=1\u001b[0m\u001b[0;34m\u001b[0m\u001b[0;34m\u001b[0m\u001b[0m\n\u001b[0;32m----> 3\u001b[0;31m \u001b[0;32mfor\u001b[0m \u001b[0mpage\u001b[0m \u001b[0;32min\u001b[0m \u001b[0mrange\u001b[0m\u001b[0;34m(\u001b[0m\u001b[0mstart_page\u001b[0m\u001b[0;34m,\u001b[0m \u001b[0mend_page\u001b[0m\u001b[0;34m)\u001b[0m\u001b[0;34m:\u001b[0m\u001b[0;34m\u001b[0m\u001b[0m\n\u001b[0m\u001b[1;32m      4\u001b[0m   \u001b[0;32mif\u001b[0m \u001b[0;34m(\u001b[0m\u001b[0mstart_page\u001b[0m \u001b[0;34m>\u001b[0m \u001b[0;36m0\u001b[0m\u001b[0;34m)\u001b[0m\u001b[0;34m:\u001b[0m\u001b[0;34m\u001b[0m\u001b[0m\n\u001b[1;32m      5\u001b[0m     \u001b[0mprint\u001b[0m \u001b[0;34m(\u001b[0m\u001b[0;34m'Parsing page: '\u001b[0m\u001b[0;34m,\u001b[0m \u001b[0mstr\u001b[0m\u001b[0;34m(\u001b[0m\u001b[0mpage\u001b[0m\u001b[0;34m)\u001b[0m\u001b[0;34m)\u001b[0m\u001b[0;34m\u001b[0m\u001b[0m\n",
      "\u001b[0;31mNameError\u001b[0m: name 'start_page' is not defined"
     ],
     "output_type": "error"
    }
   ],
   "source": [
    "# First we get data from the pages that list the apartments. \n",
    "# Ex. http://www.vuokraovi.com/vuokra-asunnot?page=1\n",
    "for page in range(start_page, end_page):\n",
    "  if (start_page > 0):\n",
    "    print ('Parsing page: ', str(page))\n",
    "    html = requests.post('http://www.vuokraovi.com/vuokra-asunnot?page=' + str(page), cookies=cookie, data={'listorder':11, 'perpage':30})\n",
    "\n",
    "    parsed_html = BeautifulSoup(html.text,'html.parser')\n",
    "    print(parsed_html.find('table', {'id':'itemList'}))\n",
    "    print(parsed_html.prettify())\n",
    "    \n",
    "    rows = parsed_html.find('table', {'id':'itemList'}).find('tbody').findAll('tr', {'class': ['evenRow', 'oddRow']})\n",
    "\n",
    "    row_index = 0\n",
    "    for row in rows:\n",
    "      row_index = row_index + 1\n",
    "      column_index = 0\n",
    "      apartment = dict() \n",
    "      columns = row.findAll('td')\n",
    "      for column in columns:\n",
    "        column_index = column_index + 1\n",
    "        # apartment image.\n",
    "        if column_index == 1:\n",
    "          m = re.search('(\\d+)\\?entryPoint', column.find('div').find('a')['href'])\n",
    "          apartment['aid'] = m.group(1)\n",
    "          apartment['url'] = column.find('div').find('a')['href']\n",
    "        # apartment type.\n",
    "        if column_index == 2:\n",
    "          apartment['type'] = column.text\n",
    "        # Apartment size.  \n",
    "        if column_index == 3:\n",
    "          apartment['size'] = column.text\n",
    "          if apartment['size'] == '':\n",
    "            apartment['size'] = '0'\n",
    "          if apartment['size'] == 'm2':\n",
    "            apartment['size'] = '0'\n",
    "        # Apartment rent.  \n",
    "        if column_index == 4:\n",
    "          apartment['rent'] = column.text\n",
    "          if apartment['rent'] == '':\n",
    "            apartment['rent'] = '0'\n",
    "        # Apartment location.  \n",
    "        if column_index == 6:\n",
    "          apartment['location'] = column.text\n",
    "      if apartment['aid'] != '':\n",
    "        if not table.find({'aid': apartment['aid']}).count():\n",
    "          data_added = data_added + 1\n",
    "          # Push the collected data to db.\n",
    "          table.insert({\n",
    "            'build_year': '', \n",
    "            'rental_service': '', \n",
    "            'aid': apartment['aid'], \n",
    "            'type': apartment['type'],\n",
    "            'size': apartment['size'],\n",
    "            'url': apartment['url'],\n",
    "            'size_nr': float(re.sub(r'[^0-9.]', '', apartment['size'].replace('m2', '').replace(',', '.'))),\n",
    "            'rent': apartment['rent'],\n",
    "            'rent_nr': float(re.sub(r'[^0-9.]', '', apartment['rent'].replace(' &euro;/kk', '').replace(' &euro;/vko', '').replace(',', '.'))),\n",
    "            'location': apartment['location']\n",
    "          })\n",
    "        else:\n",
    "          data_existed = data_existed + 1\n",
    "\n",
    "print ('\\033[1mNew records:\\033[0m ' , str(data_added))\n",
    "print ('\\033[1mExisting records:\\033[0m ' , str(data_existed))\n",
    "\n",
    "print ('\\n\\033[1mWill now search for additional data.\\033[0m\\n')"
   ]
  },
  {
   "cell_type": "code",
   "execution_count": 1,
   "metadata": {},
   "outputs": [
    {
     "ename": "IndentationError",
     "evalue": "unexpected indent (<ipython-input-1-b5352515f9c2>, line 3)",
     "traceback": [
      "\u001b[0;36m  File \u001b[0;32m\"<ipython-input-1-b5352515f9c2>\"\u001b[0;36m, line \u001b[0;32m3\u001b[0m\n\u001b[0;31m    row_index = 0\u001b[0m\n\u001b[0m    ^\u001b[0m\n\u001b[0;31mIndentationError\u001b[0m\u001b[0;31m:\u001b[0m unexpected indent\n"
     ],
     "output_type": "error"
    }
   ],
   "source": []
  },
  {
   "cell_type": "code",
   "execution_count": null,
   "metadata": {
    "collapsed": true
   },
   "outputs": [],
   "source": [
    "apartment_index = 0\n",
    "# Second we get data from individual aparment pages.\n",
    "# We need to do this while not all the information like build year\n",
    "# is not available on the apartment listning page.\n",
    "# Ex. http://www.vuokraovi.com/vuokra-asunto/helsinki/kalasatama/kerrostalo/yksio/484562?entryPoint=fromSearch&rentalIndex=1\n",
    "print 'Fetching data for: ' + str(table.find({'build_year': ''}).count()) + ' houses.\\n'\n",
    "for apartment in table.find({'build_year': ''}):\n",
    "  apartment_index = apartment_index + 1\n",
    "  html = requests.get('http://www.vuokraovi.com' + apartment['url'], cookies=cookie)\n",
    "  parsed_html = BeautifulSoup(html.text)\n",
    "  try:\n",
    "    apartment['rental_service'] = parsed_html.find('div', {'id':'rentalCardTenantInfo'}).find('a').text\n",
    "  except:\n",
    "    #print '\\n\\033[1mFailed to fetch rental service data for url:\\n\\033[0m http://www.vuokraovi.com' + apartment['url']\n",
    "    apartment['rental_service'] = ''\n",
    "  #print apartment['rental_service']\n",
    "  try:\n",
    "    rows = parsed_html.find('table', {'class':'rentaltable'}).find('tbody').findAll('tr', {'class': ['evenRow', 'odd']})\n",
    "    row_index = 0\n",
    "    apartment['street_address'] = apartment['postal_code'] = apartment['building'] = apartment['description'] = apartment['build_year'] = ''\n",
    "    for row in rows:\n",
    "      row_index = row_index + 1\n",
    "      heading = row.find('th').text\n",
    "      # Apartment address.\n",
    "      if heading == 'Sijainti:':\n",
    "        apartment['street_address'] = row.find('td').find('span', {'itemprop': 'streetAddress'}).text\n",
    "        m = re.search('([0-9]{5})', row.find('td').find('span', {'itemprop': 'addressLocality'}).text)\n",
    "        apartment['postal_code'] = m.group(1)\n",
    "      # Apartment type.\n",
    "      if heading == 'Tyyppi:':\n",
    "        apartment['building'] = row.find('td').text\n",
    "      # Apartment type.\n",
    "      if heading == 'Kuvaus:':\n",
    "        apartment['description'] = row.find('td').text\n",
    "      # Apartment build year.\n",
    "      if heading == 'Rakennusvuosi:':\n",
    "        apartment['build_year'] = row.find('td').text\n",
    "    if apartment['aid'] != '':\n",
    "      # Update the existing database record\n",
    "      # with the new data we've fetched.\n",
    "      table.update({'aid':apartment['aid']}, {\n",
    "        '$set': {\n",
    "          'street_address': apartment['street_address'],\n",
    "          'postal_code': apartment['postal_code'],\n",
    "          'building': apartment['building'],\n",
    "          'description': apartment['description'],\n",
    "          'rental_service': apartment['rental_service'],\n",
    "          'build_year': apartment['build_year']\n",
    "        }\n",
    "      })\n",
    "    if (apartment_index % 10) == 0:\n",
    "      print 'Fetched data for ' + str(apartment_index) + ' houses.'\n",
    "  except:\n",
    "    print '\\n\\033[1mFailed to fetch data for url:\\n\\033[0m http://www.vuokraovi.com' + apartment['url']\n",
    "\n",
    "print '\\n\\033[1mAll done! Bye bye.\\n\\033[0m'\n",
    "\n",
    "# You can export the data from database with this kind of command.\n",
    "# mongoexport --db housing_data --collection etuovi  --csv -f aid,street_address,postal_code,building,description,rent_nr,size_nr,build_year,url > data.csv"
   ]
  },
  {
   "cell_type": "code",
   "execution_count": null,
   "metadata": {
    "collapsed": true
   },
   "outputs": [],
   "source": []
  },
  {
   "cell_type": "code",
   "execution_count": null,
   "metadata": {
    "collapsed": true
   },
   "outputs": [],
   "source": []
  }
 ],
 "metadata": {
  "kernelspec": {
   "display_name": "Python 3",
   "language": "python",
   "name": "python3"
  },
  "language_info": {
   "codemirror_mode": {
    "name": "ipython",
    "version": 3
   },
   "file_extension": ".py",
   "mimetype": "text/x-python",
   "name": "python",
   "nbconvert_exporter": "python",
   "pygments_lexer": "ipython3",
   "version": "3.5.2"
  }
 },
 "nbformat": 4,
 "nbformat_minor": 2
}
