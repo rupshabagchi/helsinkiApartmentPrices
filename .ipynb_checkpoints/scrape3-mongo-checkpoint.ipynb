{
 "cells": [
  {
   "cell_type": "code",
   "execution_count": 38,
   "metadata": {
    "collapsed": true
   },
   "outputs": [],
   "source": [
    "from bs4 import BeautifulSoup\n",
    "import pymongo\n",
    "import requests\n",
    "import re\n",
    "import sys"
   ]
  },
  {
   "cell_type": "code",
   "execution_count": 39,
   "metadata": {
    "collapsed": true
   },
   "outputs": [],
   "source": [
    "# Create mongodb connection\n",
    "from pymongo import MongoClient\n",
    "connection = MongoClient('localhost', 27017)\n",
    "database = connection.housing_data\n",
    "\n",
    "table = database.etuovi\n",
    "\n",
    "#table.remove() to remove everything\n",
    "\n",
    "cookie = {'org.springframework.mobile.device.site.CookieSitePreferenceRepository.SITE_PREFERENCE':'NORMAL','JSESSIONID':'183EE2F12C128B603790A0D5D1558022','evid_0006':'87ccc59d-4b80-489f-98cf-be92d6591fa6','evid_0006_ref':'false','adptseg_0006':'kv1001#a-kv1002#c-kv1003#d-kv1004#d-kv1005#c-kv1006#a:b-kv1008#c-kv1009#17-kv1010#b-kv1011#f-kv1012#c-kv1013#a-kv1016#1:11:13:2:7-kv1017#2-','adptset_0006':'1','evid_0006_set':'2','__utma':'82691985.304271103.1385626909.1385642039.1385658686.4','__utmb':'82691985.9.8.1385658723878','__utmc':'82691985','__utmz':'82691985.1385626909.1.1.utmcsr=kuluttaja.etuovi.com|utmccn=(referral)|utmcmd=referral|utmcct=/crometapp/product/realties/common/public/frontpage2/search_in_progress_to_vuokraovi.jsp','slbp_80':'2265258762.20480.0000','slbp_443':'2265258762.47873.0000'}\n",
    "\n",
    "data_added = 0\n",
    "data_existed = 0"
   ]
  },
  {
   "cell_type": "code",
   "execution_count": 40,
   "metadata": {},
   "outputs": [
    {
     "name": "stdout",
     "output_type": "stream",
     "text": [
      "Parsing page: 1\n",
      "Parsing page: 2\n",
      "['/vuokra-asunto/helsinki/ita-pakila/kerrostalo/661537?entryPoint=fromSearch&rentalIndex=1', '/vuokra-asunto/oulu/keskusta/kerrostalo/661540?entryPoint=fromSearch&rentalIndex=2', '/vuokra-asunto/vantaa/tikkurila/kerrostalo/661539?entryPoint=fromSearch&rentalIndex=3', '/vuokra-asunto/vantaa/tikkurila/kerrostalo/661538?entryPoint=fromSearch&rentalIndex=4', '/vuokra-asunto/oulu/tuira/kerrostalo/567932?entryPoint=fromSearch&rentalIndex=5', '/vuokra-asunto/vantaa/koivukyla/kerrostalo/293816?entryPoint=fromSearch&rentalIndex=6', '/vuokra-asunto/vantaa/koivukyla/kerrostalo/242230?entryPoint=fromSearch&rentalIndex=7', '/vuokra-asunto/jyvaskyla/jyska/kerrostalo/190753?entryPoint=fromSearch&rentalIndex=8', '/vuokra-asunto/hameenlinna/keskusta/kerrostalo/661535?entryPoint=fromSearch&rentalIndex=9', '/vuokra-asunto/tampere/keskusta/kerrostalo/661534?entryPoint=fromSearch&rentalIndex=10', '/vuokra-asunto/espoo/matinkyla/kerrostalo/661533?entryPoint=fromSearch&rentalIndex=11', '/vuokra-asunto/jyvaskyla/keljo/kerrostalo/661532?entryPoint=fromSearch&rentalIndex=12', '/vuokra-asunto/hameenlinna/keskusta/kerrostalo/661531?entryPoint=fromSearch&rentalIndex=13', '/vuokra-asunto/hyvinkaa/hyvinkaa/luhtitalo/661529?entryPoint=fromSearch&rentalIndex=14', '/vuokra-asunto/helsinki/kivikko/kerrostalo/661523?entryPoint=fromSearch&rentalIndex=15', '/vuokra-asunto/kangasala/nattari/rivitalo/661528?entryPoint=fromSearch&rentalIndex=16', '/vuokra-asunto/helsinki/kivikko/kerrostalo/661515?entryPoint=fromSearch&rentalIndex=17', '/vuokra-asunto/helsinki/mellunmaki/kerrostalo/661509?entryPoint=fromSearch&rentalIndex=18', '/vuokra-asunto/nivala/kerrostalo/661527?entryPoint=fromSearch&rentalIndex=19', '/vuokra-asunto/tampere/hervanta/kerrostalo/661526?entryPoint=fromSearch&rentalIndex=20', '/vuokra-asunto/kemi/sauvosaari/kerrostalo/661525?entryPoint=fromSearch&rentalIndex=21', '/vuokra-asunto/kontiolahti/kontiolahti/rivitalo/661524?entryPoint=fromSearch&rentalIndex=22', '/vuokra-asunto/helsinki/kivikko/kerrostalo/661507?entryPoint=fromSearch&rentalIndex=23', '/vuokra-asunto/espoo/olari/kerrostalo/661505?entryPoint=fromSearch&rentalIndex=24', '/vuokra-asunto/hameenlinna/kerrostalo/661521?entryPoint=fromSearch&rentalIndex=25', '/vuokra-asunto/oulu/heinapaa/kerrostalo/661520?entryPoint=fromSearch&rentalIndex=26', '/vuokra-asunto/vantaa/asola/kerrostalo/661519?entryPoint=fromSearch&rentalIndex=27', '/vuokra-asunto/heinola/jyranko/kerrostalo/661518?entryPoint=fromSearch&rentalIndex=28', '/vuokra-asunto/pori/vaharauma/kerrostalo/661517?entryPoint=fromSearch&rentalIndex=29', '/vuokra-asunto/pori/keskusta/kerrostalo/661516?entryPoint=fromSearch&rentalIndex=30', '/vuokra-asunto/kuusamo/rivitalo/661513?entryPoint=fromSearch&rentalIndex=31', '/vuokra-asunto/vantaa/pahkinarinne/kerrostalo/661511?entryPoint=fromSearch&rentalIndex=32', '/vuokra-asunto/oulu/metsokangas/luhtitalo/661512?entryPoint=fromSearch&rentalIndex=33', '/vuokra-asunto/jyvaskyla/aijala/kerrostalo/661510?entryPoint=fromSearch&rentalIndex=34', '/vuokra-asunto/turku/kerrostalo/661503?entryPoint=fromSearch&rentalIndex=35', '/vuokra-asunto/espoo/olari/kerrostalo/661502?entryPoint=fromSearch&rentalIndex=36', '/vuokra-asunto/turku/kerrostalo/661499?entryPoint=fromSearch&rentalIndex=37', '/vuokra-asunto/kuopio/pihlajalaakso/luhtitalo/661500?entryPoint=fromSearch&rentalIndex=38', '/vuokra-asunto/kotka/kotkansaari/kerrostalo/661498?entryPoint=fromSearch&rentalIndex=39', '/vuokra-asunto/oulu/luhtitalo/189434?entryPoint=fromSearch&rentalIndex=40']\n"
     ]
    }
   ],
   "source": [
    "start_page = 1\n",
    "end_page = 3\n",
    "Links = []\n",
    "for page in range(start_page, end_page):\n",
    "    print ('Parsing page:', str(page))\n",
    "    html = requests.post('http://www.vuokraovi.com/vuokra-asunnot?page=' + str(page), cookies=cookie, data={'listorder':11})\n",
    "    \n",
    "    parsed_html = BeautifulSoup(html.text,'html.parser')                                                                                        \n",
    "    #print(parsed_html.prettify())\n",
    "    url_tag = parsed_html.find_all('a', {'class':'list-item-link'})\n",
    "    for link in url_tag:\n",
    "        address = link.get('href')\n",
    "        if '/vuokra-asunto' in address:\n",
    "            #print(address)\n",
    "            Links.append(address)\n",
    "print (Links)"
   ]
  },
  {
   "cell_type": "code",
   "execution_count": 43,
   "metadata": {},
   "outputs": [
    {
     "name": "stdout",
     "output_type": "stream",
     "text": [
      "/vuokra-asunto/helsinki/ita-pakila/kerrostalo/661537?entryPoint=fromSearch&rentalIndex=1\n"
     ]
    },
    {
     "ename": "KeyError",
     "evalue": "'type'",
     "output_type": "error",
     "traceback": [
      "\u001b[0;31m---------------------------------------------------------------------------\u001b[0m",
      "\u001b[0;31mKeyError\u001b[0m                                  Traceback (most recent call last)",
      "\u001b[0;32m<ipython-input-43-d6e2d2e4e022>\u001b[0m in \u001b[0;36m<module>\u001b[0;34m()\u001b[0m\n\u001b[1;32m     40\u001b[0m             \u001b[0;34m'postal_code'\u001b[0m\u001b[0;34m:\u001b[0m \u001b[0mapartment\u001b[0m\u001b[0;34m[\u001b[0m\u001b[0;34m'postal_code'\u001b[0m\u001b[0;34m]\u001b[0m\u001b[0;34m,\u001b[0m\u001b[0;34m\u001b[0m\u001b[0m\n\u001b[1;32m     41\u001b[0m \u001b[0;34m\u001b[0m\u001b[0m\n\u001b[0;32m---> 42\u001b[0;31m             \u001b[0;34m'type'\u001b[0m\u001b[0;34m:\u001b[0m \u001b[0mapartment\u001b[0m\u001b[0;34m[\u001b[0m\u001b[0;34m'type'\u001b[0m\u001b[0;34m]\u001b[0m\u001b[0;34m,\u001b[0m\u001b[0;34m\u001b[0m\u001b[0m\n\u001b[0m\u001b[1;32m     43\u001b[0m             \u001b[0;34m'total_size'\u001b[0m\u001b[0;34m:\u001b[0m \u001b[0mapartment\u001b[0m\u001b[0;34m[\u001b[0m\u001b[0;34m'total_size'\u001b[0m\u001b[0;34m]\u001b[0m\u001b[0;34m,\u001b[0m\u001b[0;34m\u001b[0m\u001b[0m\n\u001b[1;32m     44\u001b[0m             \u001b[0;34m'number_of_rooms'\u001b[0m\u001b[0;34m:\u001b[0m \u001b[0mapartment\u001b[0m\u001b[0;34m[\u001b[0m\u001b[0;34m'number_of_rooms'\u001b[0m\u001b[0;34m]\u001b[0m\u001b[0;34m,\u001b[0m\u001b[0;34m\u001b[0m\u001b[0m\n",
      "\u001b[0;31mKeyError\u001b[0m: 'type'"
     ]
    }
   ],
   "source": [
    "apartment = dict()\n",
    "for page in Links:\n",
    "    print(page)\n",
    "    html = requests.post('http://www.vuokraovi.com' + page, cookies=cookie, data={'listorder':11})\n",
    "    parsed_html = BeautifulSoup(html.text,'html.parser') \n",
    "    #print(parsed_html)\n",
    "    test_tagth = parsed_html.find_all('th')\n",
    "    test_tagtd = parsed_html.find_all('td')\n",
    "    apartment['postal_code'] = test_tagtd[0].find('span', {'itemprop':'addressLocality'}).get_text(strip = True)[:5]\n",
    "  \n",
    "    \n",
    "    for i in range(0,len(test_tagth)):\n",
    "        if 'Vakuus:' in test_tagth[i].get_text():\n",
    "            apartment['deposit'] = test_tagtd[i].get_text(strip = True)\n",
    "            \n",
    "        if 'Vuokra:' in test_tagth[i].get_text():\n",
    "            apartment['rent'] = test_tagtd[i].get_text(strip = True) \n",
    "            \n",
    "        if 'Tyyppi:' in test_tagth[i].get_text():\n",
    "            apartment['type'] = test_tagtd[i].get_text(strip = True)\n",
    "            \n",
    "        if 'Huoneiden lukumäärä' in test_tagth[i].get_text():\n",
    "            apartment['number_of_rooms'] = test_tagtd[i].get_text(strip = True)\n",
    "            \n",
    "        if 'Rakennusvuosi:' in test_tagth[i].get_text():\n",
    "            apartment['built_year'] = test_tagtd[i].get_text(strip = True)\n",
    "            \n",
    "        if 'Yleiskunto:' in test_tagth[i].get_text():\n",
    "            apartment['condition'] = test_tagtd[i].get_text(strip = True)\n",
    "            \n",
    "        if 'sallittu:' in test_tagth[i].get_text():\n",
    "            apartment['allow_pets'] = test_tagtd[i].get_text(strip = True)\n",
    "            \n",
    "        if 'pinta-ala:' in test_tagth[i].get_text():\n",
    "            apartment['total_size'] = test_tagtd[i].get_text(strip = True)\n",
    "        \n",
    "        \n",
    "        # Push the collected data to db.\n",
    "        table.insert({\n",
    "            'postal_code': apartment['postal_code'],\n",
    "            'built_year': apartment['built_year'], \n",
    "            'type': apartment['type'],\n",
    "            'total_size': apartment['total_size'],\n",
    "            'number_of_rooms': apartment['number_of_rooms'],\n",
    "            'condition': apartment['condition'],\n",
    "            'rent': apartment['rent'],\n",
    "            'deposit': apartment['deposit'],\n",
    "            'allow_pets': apartment['allow_pets']          \n",
    "        })\n"
   ]
  },
  {
   "cell_type": "code",
   "execution_count": null,
   "metadata": {},
   "outputs": [],
   "source": [
    "      "
   ]
  },
  {
   "cell_type": "code",
   "execution_count": null,
   "metadata": {
    "collapsed": true
   },
   "outputs": [],
   "source": []
  }
 ],
 "metadata": {
  "kernelspec": {
   "display_name": "Python 3",
   "language": "python",
   "name": "python3"
  },
  "language_info": {
   "codemirror_mode": {
    "name": "ipython",
    "version": 3
   },
   "file_extension": ".py",
   "mimetype": "text/x-python",
   "name": "python",
   "nbconvert_exporter": "python",
   "pygments_lexer": "ipython3",
   "version": "3.5.2"
  }
 },
 "nbformat": 4,
 "nbformat_minor": 2
}
