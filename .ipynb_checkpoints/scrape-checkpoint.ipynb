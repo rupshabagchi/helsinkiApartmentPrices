{
 "cells": [
  {
   "cell_type": "code",
   "execution_count": 63,
   "metadata": {},
   "outputs": [],
   "source": [
    "from bs4 import BeautifulSoup\n",
    "import pymongo\n",
    "import requests\n",
    "import re\n",
    "import sys"
   ]
  },
  {
   "cell_type": "code",
   "execution_count": 78,
   "metadata": {},
   "outputs": [
    {
     "name": "stdout",
     "output_type": "stream",
     "text": [
      "Parsing page: 1\n",
      "Rent:990 €/kk\n",
      "House type:paritalo, 90 m²\n",
      "Address:Seinäjoki\n",
      "\n",
      "\n",
      "    \n",
      "Parsing page: 2\n",
      "Rent:847 €/kk\n",
      "House type:kerrostalo, 53 m²\n",
      "Address:Vantaa\n",
      "\n",
      "\n",
      "    \n"
     ]
    }
   ],
   "source": [
    "start_page = 1\n",
    "end_page = 3\n",
    "for page in range(start_page, end_page):\n",
    "  if (start_page > 0):\n",
    "    print ('Parsing page:', str(page))\n",
    "    html = requests.post('http://www.vuokraovi.com/vuokra-asunnot?page=' + str(page), cookies=cookie, data={'listorder':11, 'perpage':30})\n",
    "    \n",
    "    parsed_html = BeautifulSoup(html.text,'html.parser')                                                                                        \n",
    "    #print(parsed_html.prettify())\n",
    "    \n",
    "    rent_tag = parsed_html.find('a', {'class':'list-item-link'}).find('div', {'class':'col-xs-7 col-sm-3 col-2'}).find('span',{'class':'price'})\n",
    "    type_tag = parsed_html.find('a', {'class':'list-item-link'}).find('div', {'class':'col-xs-7 col-sm-3 col-2'}).find('li',{'class':'semi-bold'})\n",
    "    address_tag = parsed_html.find('a', {'class':'list-item-link'}).find('div', {'class':'hidden-xs col-sm-4 col-3'}).find('span',{'class':'address'})\n",
    "    rent = rent_tag.text.strip()\n",
    "    type = type_tag.text.strip()\n",
    "    address = address_tag.text.strip().split(',')\n",
    "    print (\"Rent:\" +rent)\n",
    "    print (\"House type:\" +type)\n",
    "    print (\"Address:\" +address[0])\n"
   ]
  }
 ],
 "metadata": {
  "kernelspec": {
   "display_name": "Python 3",
   "language": "python",
   "name": "python3"
  },
  "language_info": {
   "codemirror_mode": {
    "name": "ipython",
    "version": 3
   },
   "file_extension": ".py",
   "mimetype": "text/x-python",
   "name": "python",
   "nbconvert_exporter": "python",
   "pygments_lexer": "ipython3",
   "version": "3.5.2"
  }
 },
 "nbformat": 4,
 "nbformat_minor": 2
}
