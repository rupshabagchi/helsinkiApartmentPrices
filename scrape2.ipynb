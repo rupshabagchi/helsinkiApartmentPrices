{
 "cells": [
  {
   "cell_type": "code",
   "execution_count": 1,
   "metadata": {
    "collapsed": true
   },
   "outputs": [],
   "source": [
    "from bs4 import BeautifulSoup\n",
    "import pymongo\n",
    "import requests\n",
    "import re\n",
    "import sys"
   ]
  },
  {
   "cell_type": "code",
   "execution_count": 3,
   "metadata": {
    "collapsed": true
   },
   "outputs": [],
   "source": [
    "# Create mongodb connection\n",
    "from pymongo import MongoClient\n",
    "connection = MongoClient('localhost', 27017)\n",
    "#connection = Connection('localhost', 27017)\n",
    "\n",
    "database = connection.housing_data\n",
    "\n",
    "table = database.etuovi\n",
    "\n",
    "#table.remove() to remove everything\n",
    "\n",
    "cookie = {'org.springframework.mobile.device.site.CookieSitePreferenceRepository.SITE_PREFERENCE':'NORMAL','JSESSIONID':'183EE2F12C128B603790A0D5D1558022','evid_0006':'87ccc59d-4b80-489f-98cf-be92d6591fa6','evid_0006_ref':'false','adptseg_0006':'kv1001#a-kv1002#c-kv1003#d-kv1004#d-kv1005#c-kv1006#a:b-kv1008#c-kv1009#17-kv1010#b-kv1011#f-kv1012#c-kv1013#a-kv1016#1:11:13:2:7-kv1017#2-','adptset_0006':'1','evid_0006_set':'2','__utma':'82691985.304271103.1385626909.1385642039.1385658686.4','__utmb':'82691985.9.8.1385658723878','__utmc':'82691985','__utmz':'82691985.1385626909.1.1.utmcsr=kuluttaja.etuovi.com|utmccn=(referral)|utmcmd=referral|utmcct=/crometapp/product/realties/common/public/frontpage2/search_in_progress_to_vuokraovi.jsp','slbp_80':'2265258762.20480.0000','slbp_443':'2265258762.47873.0000'}\n",
    "\n",
    "data_added = 0\n",
    "data_existed = 0"
   ]
  },
  {
   "cell_type": "code",
   "execution_count": 44,
   "metadata": {},
   "outputs": [
    {
     "name": "stdout",
     "output_type": "stream",
     "text": [
      "Parsing page: 1\n",
      "Parsing page: 2\n",
      "['/vuokra-asunto/espoo/ymmersta/kerrostalo/661148?entryPoint=fromSearch&rentalIndex=1', '/vuokra-asunto/espoo/ymmersta/kerrostalo/661147?entryPoint=fromSearch&rentalIndex=2', '/vuokra-asunto/espoo/ymmersta/kerrostalo/661146?entryPoint=fromSearch&rentalIndex=3', '/vuokra-asunto/lahti/keskusta/kerrostalo/661105?entryPoint=fromSearch&rentalIndex=4', '/vuokra-asunto/kuopio/rypysuo/kerrostalo/661145?entryPoint=fromSearch&rentalIndex=5', '/vuokra-asunto/vantaa/myyrmaki/kerrostalo/661144?entryPoint=fromSearch&rentalIndex=6', '/vuokra-asunto/helsinki/punavuori/kerrostalo/661143?entryPoint=fromSearch&rentalIndex=7', '/vuokra-asunto/helsinki/punavuori/kerrostalo/661142?entryPoint=fromSearch&rentalIndex=8', '/vuokra-asunto/helsinki/punavuori/kerrostalo/661141?entryPoint=fromSearch&rentalIndex=9', '/vuokra-asunto/helsinki/punavuori/kerrostalo/661140?entryPoint=fromSearch&rentalIndex=10', '/vuokra-asunto/helsinki/punavuori/kerrostalo/661139?entryPoint=fromSearch&rentalIndex=11', '/vuokra-asunto/helsinki/punavuori/kerrostalo/661138?entryPoint=fromSearch&rentalIndex=12', '/vuokra-asunto/helsinki/punavuori/kerrostalo/661137?entryPoint=fromSearch&rentalIndex=13', '/vuokra-asunto/helsinki/punavuori/kerrostalo/661136?entryPoint=fromSearch&rentalIndex=14', '/vuokra-asunto/helsinki/punavuori/kerrostalo/661135?entryPoint=fromSearch&rentalIndex=15', '/vuokra-asunto/helsinki/punavuori/kerrostalo/661134?entryPoint=fromSearch&rentalIndex=16', '/vuokra-asunto/helsinki/punavuori/kerrostalo/661133?entryPoint=fromSearch&rentalIndex=17', '/vuokra-asunto/helsinki/punavuori/kerrostalo/661132?entryPoint=fromSearch&rentalIndex=18', '/vuokra-asunto/helsinki/punavuori/kerrostalo/661131?entryPoint=fromSearch&rentalIndex=19', '/vuokra-asunto/helsinki/punavuori/kerrostalo/661130?entryPoint=fromSearch&rentalIndex=20', '/vuokra-asunto/helsinki/punavuori/kerrostalo/661129?entryPoint=fromSearch&rentalIndex=21', '/vuokra-asunto/helsinki/punavuori/kerrostalo/661128?entryPoint=fromSearch&rentalIndex=22', '/vuokra-asunto/helsinki/punavuori/kerrostalo/661127?entryPoint=fromSearch&rentalIndex=23', '/vuokra-asunto/helsinki/punavuori/kerrostalo/661126?entryPoint=fromSearch&rentalIndex=24', '/vuokra-asunto/helsinki/punavuori/kerrostalo/661125?entryPoint=fromSearch&rentalIndex=25', '/vuokra-asunto/helsinki/punavuori/kerrostalo/661124?entryPoint=fromSearch&rentalIndex=26', '/vuokra-asunto/helsinki/punavuori/kerrostalo/661123?entryPoint=fromSearch&rentalIndex=27', '/vuokra-asunto/helsinki/punavuori/kerrostalo/661122?entryPoint=fromSearch&rentalIndex=28', '/vuokra-asunto/helsinki/punavuori/kerrostalo/661121?entryPoint=fromSearch&rentalIndex=29', '/vuokra-asunto/helsinki/punavuori/kerrostalo/661120?entryPoint=fromSearch&rentalIndex=30', '/vuokra-asunto/helsinki/punavuori/kerrostalo/661119?entryPoint=fromSearch&rentalIndex=31', '/vuokra-asunto/helsinki/punavuori/kerrostalo/661118?entryPoint=fromSearch&rentalIndex=32', '/vuokra-asunto/helsinki/punavuori/kerrostalo/661117?entryPoint=fromSearch&rentalIndex=33', '/vuokra-asunto/helsinki/punavuori/kerrostalo/661116?entryPoint=fromSearch&rentalIndex=34', '/vuokra-asunto/helsinki/punavuori/kerrostalo/661115?entryPoint=fromSearch&rentalIndex=35', '/vuokra-asunto/helsinki/punavuori/kerrostalo/661114?entryPoint=fromSearch&rentalIndex=36', '/vuokra-asunto/helsinki/punavuori/kerrostalo/661113?entryPoint=fromSearch&rentalIndex=37', '/vuokra-asunto/helsinki/punavuori/kerrostalo/661112?entryPoint=fromSearch&rentalIndex=38', '/vuokra-asunto/helsinki/punavuori/kerrostalo/661111?entryPoint=fromSearch&rentalIndex=39', '/vuokra-asunto/helsinki/punavuori/kerrostalo/661110?entryPoint=fromSearch&rentalIndex=40']\n"
     ]
    }
   ],
   "source": [
    "start_page = 1\n",
    "end_page = 3\n",
    "Links = []\n",
    "for page in range(start_page, end_page):\n",
    "    print ('Parsing page:', str(page))\n",
    "    html = requests.post('http://www.vuokraovi.com/vuokra-asunnot?page=' + str(page), cookies=cookie, data={'listorder':11})\n",
    "    \n",
    "    parsed_html = BeautifulSoup(html.text,'html.parser')                                                                                        \n",
    "    #print(parsed_html.prettify())\n",
    "    url_tag = parsed_html.find_all('a', {'class':'list-item-link'})\n",
    "    for link in url_tag:\n",
    "        address = link.get('href')\n",
    "        if '/vuokra-asunto' in address:\n",
    "            #print(address)\n",
    "            Links.append(address)\n",
    "print(Links)\n",
    "\n",
    "    \n",
    "#html_page = urllib2.urlopen(\"http://www.yourwebsite.com\")\n",
    "#soup = BeautifulSoup(html_page)\n",
    "#for link in soup.findAll('a'):\n",
    "#print link.get('href')"
   ]
  },
  {
   "cell_type": "code",
   "execution_count": 100,
   "metadata": {
    "scrolled": false
   },
   "outputs": [
    {
     "name": "stdout",
     "output_type": "stream",
     "text": [
      "/vuokra-asunto/espoo/ymmersta/kerrostalo/661148?entryPoint=fromSearch&rentalIndex=1\n",
      "02750\n",
      "<th>Vuokratyyppi:</th>\n",
      "<td>vuokrahuoneisto</td>\n",
      "<th>Vuokrasopimus:</th>\n",
      "<td>\n",
      "                                toistaiseksi\n",
      "                                \n",
      "                            </td>\n",
      "<th>Vuokra:</th>\n",
      "<td>770 €/kk </td>\n",
      "<th>Vuokranmaksupäivä:</th>\n",
      "<td>2.päivä</td>\n",
      "<th>Vakuus:</th>\n",
      "<td>\n",
      "                                1600 €\n",
      "                                </td>\n"
     ]
    }
   ],
   "source": [
    "for page in Links:\n",
    "    print(page)\n",
    "    html = requests.post('http://www.vuokraovi.com' + page, cookies=cookie, data={'listorder':11})\n",
    "    parsed_html = BeautifulSoup(html.text,'html.parser') \n",
    "    #print(parsed_html)\n",
    "    test_tagth = parsed_html.find_all('th')\n",
    "    test_tagtd = parsed_html.find_all('td')\n",
    "    print(test_tagtd[0].find('span', {'itemprop':'addressLocality'}).get_text(strip = True)[:5])\n",
    "    #print(test_tag[17])\n",
    "    for i in range(0,len(test_tag)):\n",
    "        if 'Vakuus' in test_tagth[i].get_text() or 'Vuokra' in test_tagth[i].get_text() :\n",
    "            print(test_tagth[i])\n",
    "            print(test_tagtd[i])\n",
    "#so for example from page https://www.vuokraovi.com/vuokra-asunto/ilmajoki/rivitalo/661099?entryPoint=fromSearch&rentalIndex=2&searchIdentifier=1608406095\n",
    "# 'td' is gonna return stuff under \"Perustiedot\", so test_tag[0] will be sijainti\n",
    "# test_tag[17] will be vuokra.\n",
    "# I think these will get us really far. Only problem now is to get\n",
    "# the postal code, since it is with address etc in test_tag[0]. \n",
    "# Maybe we take this from the page before this one?\n",
    "    break;\n",
    "\n"
   ]
  },
  {
   "cell_type": "code",
   "execution_count": null,
   "metadata": {
    "collapsed": true
   },
   "outputs": [],
   "source": []
  }
 ],
 "metadata": {
  "kernelspec": {
   "display_name": "Python 3",
   "language": "python",
   "name": "python3"
  },
  "language_info": {
   "codemirror_mode": {
    "name": "ipython",
    "version": 3
   },
   "file_extension": ".py",
   "mimetype": "text/x-python",
   "name": "python",
   "nbconvert_exporter": "python",
   "pygments_lexer": "ipython3",
   "version": "3.6.1"
  }
 },
 "nbformat": 4,
 "nbformat_minor": 2
}
