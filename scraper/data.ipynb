{
 "cells": [
  {
   "cell_type": "code",
   "execution_count": 15,
   "metadata": {},
   "outputs": [],
   "source": [
    "import pandas as pd\n",
    "df = pd.read_json(\"apartment_data.json\", lines=True,dtype={'postal_code':str})\n",
    "del df['_id']"
   ]
  },
  {
   "cell_type": "code",
   "execution_count": 24,
   "metadata": {},
   "outputs": [
    {
     "data": {
      "text/plain": [
       "0      00100\n",
       "1      00120\n",
       "2      00130\n",
       "3      00140\n",
       "4      00150\n",
       "5      00160\n",
       "6      00170\n",
       "7      00180\n",
       "8      00190\n",
       "9      00200\n",
       "10     00210\n",
       "11     00220\n",
       "12     00230\n",
       "13     00240\n",
       "14     00250\n",
       "15     00260\n",
       "16     00270\n",
       "17     00280\n",
       "18     00290\n",
       "19     00300\n",
       "20     00310\n",
       "21     00320\n",
       "22     00330\n",
       "23     00340\n",
       "24     00350\n",
       "25     00360\n",
       "26     00370\n",
       "27     00380\n",
       "28     00390\n",
       "29     00400\n",
       "       ...  \n",
       "136    02290\n",
       "137    02300\n",
       "138    02320\n",
       "139    02330\n",
       "140    02340\n",
       "141    02360\n",
       "142    02380\n",
       "143    02600\n",
       "144    02610\n",
       "145    02620\n",
       "146    02630\n",
       "147    02650\n",
       "148    02660\n",
       "149    02680\n",
       "150    02700\n",
       "151    02710\n",
       "152    02720\n",
       "153    02730\n",
       "154    02740\n",
       "155    02750\n",
       "156    02760\n",
       "157    02770\n",
       "158    02780\n",
       "159    02810\n",
       "160    02820\n",
       "161    02860\n",
       "162    02920\n",
       "163    02940\n",
       "164    02970\n",
       "165    02980\n",
       "Name: POSTI_ALUE, Length: 166, dtype: object"
      ]
     },
     "execution_count": 24,
     "metadata": {},
     "output_type": "execute_result"
    }
   ],
   "source": [
    "valid_postcode = pd.read_csv(\"../data/testdata.csv\",dtype={'POSTI_ALUE':str})\n",
    "valid_postcode['POSTI_ALUE']"
   ]
  },
  {
   "cell_type": "code",
   "execution_count": 26,
   "metadata": {},
   "outputs": [
    {
     "data": {
      "text/plain": [
       "0      False\n",
       "1      False\n",
       "2      False\n",
       "3      False\n",
       "4      False\n",
       "5      False\n",
       "6      False\n",
       "7       True\n",
       "8       True\n",
       "9       True\n",
       "10     False\n",
       "11     False\n",
       "12      True\n",
       "13      True\n",
       "14      True\n",
       "15      True\n",
       "16     False\n",
       "17      True\n",
       "18     False\n",
       "19     False\n",
       "20     False\n",
       "21     False\n",
       "22     False\n",
       "23     False\n",
       "24      True\n",
       "25     False\n",
       "26     False\n",
       "27     False\n",
       "28     False\n",
       "29     False\n",
       "       ...  \n",
       "531    False\n",
       "532    False\n",
       "533    False\n",
       "534     True\n",
       "535     True\n",
       "536    False\n",
       "537     True\n",
       "538     True\n",
       "539     True\n",
       "540     True\n",
       "541     True\n",
       "542    False\n",
       "543     True\n",
       "544     True\n",
       "545     True\n",
       "546     True\n",
       "547     True\n",
       "548    False\n",
       "549    False\n",
       "550    False\n",
       "551     True\n",
       "552     True\n",
       "553    False\n",
       "554     True\n",
       "555    False\n",
       "556    False\n",
       "557     True\n",
       "558    False\n",
       "559    False\n",
       "560    False\n",
       "Name: postal_code, Length: 561, dtype: bool"
      ]
     },
     "execution_count": 26,
     "metadata": {},
     "output_type": "execute_result"
    }
   ],
   "source": [
    "mask = df['postal_code'].isin(valid_postcode['POSTI_ALUE'])\n",
    "mask"
   ]
  }
 ],
 "metadata": {
  "kernelspec": {
   "display_name": "Python 3",
   "language": "python",
   "name": "python3"
  },
  "language_info": {
   "codemirror_mode": {
    "name": "ipython",
    "version": 3
   },
   "file_extension": ".py",
   "mimetype": "text/x-python",
   "name": "python",
   "nbconvert_exporter": "python",
   "pygments_lexer": "ipython3",
   "version": "3.5.2"
  }
 },
 "nbformat": 4,
 "nbformat_minor": 2
}
