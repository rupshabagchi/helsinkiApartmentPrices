{
 "cells": [
  {
   "cell_type": "code",
   "execution_count": 7,
   "metadata": {},
   "outputs": [],
   "source": [
    "import pandas as pd\n",
    "df = pd.read_json(\"apartment_data_full.json\", lines=True,dtype={'postal_code':str})\n",
    "del df['_id']\n",
    "df = df[~df.renter.str.contains('Majoituspalvelu Forenom Oy')]\n",
    "df = df[~df.renter.str.contains('ForenomDirect')]\n",
    "valid_postcode = pd.read_csv(\"../data/testdata.csv\",dtype={'POSTI_ALUE':str})\n",
    "valid_postcode_list = valid_postcode['POSTI_ALUE'].tolist()\n",
    "df = df[df.postal_code.isin(valid_postcode_list)].astype('str') \n",
    "df.to_csv(\"formatted_full_data.csv\")"
   ]
  },
  {
   "cell_type": "code",
   "execution_count": null,
   "metadata": {
    "collapsed": true
   },
   "outputs": [],
   "source": []
  },
  {
   "cell_type": "code",
   "execution_count": null,
   "metadata": {
    "collapsed": true
   },
   "outputs": [],
   "source": []
  }
 ],
 "metadata": {
  "kernelspec": {
   "display_name": "Python 3",
   "language": "python",
   "name": "python3"
  },
  "language_info": {
   "codemirror_mode": {
    "name": "ipython",
    "version": 3
   },
   "file_extension": ".py",
   "mimetype": "text/x-python",
   "name": "python",
   "nbconvert_exporter": "python",
   "pygments_lexer": "ipython3",
   "version": "3.5.2"
  }
 },
 "nbformat": 4,
 "nbformat_minor": 2
}
