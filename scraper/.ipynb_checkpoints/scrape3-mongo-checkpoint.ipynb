{
 "cells": [
  {
   "cell_type": "code",
   "execution_count": 1,
   "metadata": {
    "collapsed": true
   },
   "outputs": [],
   "source": [
    "from bs4 import BeautifulSoup\n",
    "import pymongo\n",
    "import requests\n",
    "import re\n",
    "import sys"
   ]
  },
  {
   "cell_type": "code",
   "execution_count": 2,
   "metadata": {
    "collapsed": true
   },
   "outputs": [],
   "source": [
    "# Create mongodb connection\n",
    "from pymongo import MongoClient\n",
    "connection = MongoClient('localhost', 27017)\n",
    "database = connection.housing_data\n",
    "\n",
    "table = database.etuovi\n",
    "\n",
    "#table.drop() to drop the collection 'housing_data'\n",
    "\n",
    "cookie = {'org.springframework.mobile.device.site.CookieSitePreferenceRepository.SITE_PREFERENCE':'NORMAL','JSESSIONID':'183EE2F12C128B603790A0D5D1558022','evid_0006':'87ccc59d-4b80-489f-98cf-be92d6591fa6','evid_0006_ref':'false','adptseg_0006':'kv1001#a-kv1002#c-kv1003#d-kv1004#d-kv1005#c-kv1006#a:b-kv1008#c-kv1009#17-kv1010#b-kv1011#f-kv1012#c-kv1013#a-kv1016#1:11:13:2:7-kv1017#2-','adptset_0006':'1','evid_0006_set':'2','__utma':'82691985.304271103.1385626909.1385642039.1385658686.4','__utmb':'82691985.9.8.1385658723878','__utmc':'82691985','__utmz':'82691985.1385626909.1.1.utmcsr=kuluttaja.etuovi.com|utmccn=(referral)|utmcmd=referral|utmcct=/crometapp/product/realties/common/public/frontpage2/search_in_progress_to_vuokraovi.jsp','slbp_80':'2265258762.20480.0000','slbp_443':'2265258762.47873.0000'}\n",
    "\n",
    "data_added = 0"
   ]
  },
  {
   "cell_type": "code",
   "execution_count": 3,
   "metadata": {},
   "outputs": [
    {
     "name": "stdout",
     "output_type": "stream",
     "text": [
      "Parsing page: 1\n",
      "Parsing page: 2\n"
     ]
    }
   ],
   "source": [
    "start_page = 1\n",
    "end_page = 3\n",
    "Links = []\n",
    "for page in range(start_page, end_page):\n",
    "    print ('Parsing page:', str(page))\n",
    "    html = requests.post('http://www.vuokraovi.com/vuokra-asunnot?page=' + str(page), cookies=cookie, data={'listorder':11})\n",
    "    \n",
    "    parsed_html = BeautifulSoup(html.text,'html.parser')                                                                                        \n",
    "    #print(parsed_html.prettify())\n",
    "    url_tag = parsed_html.find_all('a', {'class':'list-item-link'})\n",
    "    for link in url_tag:\n",
    "        address = link.get('href')\n",
    "        if '/vuokra-asunto' in address:\n",
    "            #print(address)\n",
    "            Links.append(address)\n",
    "#print (Links)"
   ]
  },
  {
   "cell_type": "code",
   "execution_count": null,
   "metadata": {},
   "outputs": [],
   "source": [
    "allApartments = []\n",
    "apartment = dict()\n",
    "for page in Links:\n",
    "    #print(page)\n",
    "    html = requests.post('http://www.vuokraovi.com' + page, cookies=cookie, data={'listorder':11})\n",
    "    parsed_html = BeautifulSoup(html.text,'html.parser') \n",
    "    #print(parsed_html)\n",
    "    test_tagth = parsed_html.find_all('th')\n",
    "    test_tagtd = parsed_html.find_all('td')\n",
    "    apartment['postal_code'] = test_tagtd[0].find('span', {'itemprop':'addressLocality'}).get_text(strip = True)[:5]\n",
    "  \n",
    "    \n",
    "    for i in range(0,len(test_tagth)):\n",
    "        if 'Vakuus:' in test_tagth[i].get_text():\n",
    "            apartment['deposit'] = test_tagtd[i].get_text(strip = True)\n",
    "            \n",
    "        if 'Vuokra:' in test_tagth[i].get_text():\n",
    "            apartment['rent'] = test_tagtd[i].get_text(strip = True) \n",
    "            \n",
    "        if 'Tyyppi:' in test_tagth[i].get_text():\n",
    "            apartment['type'] = test_tagtd[i].get_text(strip = True)\n",
    "            \n",
    "        if 'Huoneiden lukumäärä' in test_tagth[i].get_text():\n",
    "            apartment['number_of_rooms'] = test_tagtd[i].get_text(strip = True)\n",
    "            \n",
    "        if 'Rakennusvuosi:' in test_tagth[i].get_text():\n",
    "            apartment['built_year'] = test_tagtd[i].get_text(strip = True)\n",
    "            \n",
    "        if 'Yleiskunto:' in test_tagth[i].get_text():\n",
    "            apartment['condition'] = test_tagtd[i].get_text(strip = True)\n",
    "            \n",
    "        if 'sallittu:' in test_tagth[i].get_text():\n",
    "            apartment['allow_pets'] = test_tagtd[i].get_text(strip = True)\n",
    "            \n",
    "        if 'pinta-ala:' in test_tagth[i].get_text():\n",
    "            apartment['total_size'] = test_tagtd[i].get_text(strip = True)\n",
    "    \n",
    "    allApartments.append(apartment)\n",
    "    \n",
    "    \n",
    "    #To check in mongodb on your laptop, install mongodb, type mongo to open terminal -\n",
    "    # then 'use housing_data' -> db.etuovi.count() -- number of entries, db.etuovi.find() --check entries"
   ]
  },
  {
   "cell_type": "code",
   "execution_count": null,
   "metadata": {
    "collapsed": true
   },
   "outputs": [],
   "source": []
  },
  {
   "cell_type": "code",
   "execution_count": null,
   "metadata": {
    "collapsed": true
   },
   "outputs": [],
   "source": [
    " \n",
    "    try:\n",
    "        # Push the collected data to db.\n",
    "        table.insert({\n",
    "                'postal_code': apartment['postal_code'],\n",
    "                'built_year': apartment['built_year'], \n",
    "                'type': apartment['type'],\n",
    "                'total_size': apartment['total_size'],\n",
    "                'number_of_rooms': apartment['number_of_rooms'],\n",
    "                'condition': apartment['condition'],\n",
    "                'rent': apartment['rent'],\n",
    "                'deposit': apartment['deposit'],\n",
    "                'allow_pets': apartment['allow_pets']          \n",
    "            }) \n",
    "        data_added += 1\n",
    "    except pymongo.errors.DuplicateKeyError:\n",
    "            pass"
   ]
  }
 ],
 "metadata": {
  "kernelspec": {
   "display_name": "Python 3",
   "language": "python",
   "name": "python3"
  },
  "language_info": {
   "codemirror_mode": {
    "name": "ipython",
    "version": 3
   },
   "file_extension": ".py",
   "mimetype": "text/x-python",
   "name": "python",
   "nbconvert_exporter": "python",
   "pygments_lexer": "ipython3",
   "version": "3.5.2"
  }
 },
 "nbformat": 4,
 "nbformat_minor": 2
}
