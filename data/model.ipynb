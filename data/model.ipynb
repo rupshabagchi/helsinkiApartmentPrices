{
 "cells": [
  {
   "cell_type": "code",
   "execution_count": null,
   "metadata": {
    "collapsed": true
   },
   "outputs": [],
   "source": [
    "#This one takes size and condition into account\n",
    "#more variables just mess things up\n",
    "#it seems that postal code also just confuses the model, since in Helsinki region it doesn't seem to have much effect\n",
    "#"
   ]
  },
  {
   "cell_type": "code",
   "execution_count": 7,
   "metadata": {},
   "outputs": [],
   "source": [
    "import numpy as np\n",
    "def model(size=0, condition='not selected'):\n",
    "    #so you call this and give it the condition and size you want\n",
    "    if(condition == 'ei luokiteltu'):\n",
    "        #first number is the \"starting point\" given by condition\n",
    "        #second number is kinda like price per square meter\n",
    "        answer = np.exp(6.27801426+0.01068143*size)\n",
    "    if(condition == 'hyva'):\n",
    "        answer = np.exp(6.32647930+0.01068143*size)\n",
    "    if(condition == 'tyydyttava'):\n",
    "        answer = np.exp(6.21692606+0.01068143*size)\n",
    "    if(condition == 'valttava'):\n",
    "        answer = np.exp(6.16649394+0.01068143*size)\n",
    "    if(condition == 'not selected'):\n",
    "        #condition isn't selected, just calculate the mean\n",
    "        a = np.exp(6.27801426+0.01068143*size)\n",
    "        b = np.exp(6.32647930+0.01068143*size)\n",
    "        c = np.exp(6.21692606+0.01068143*size)\n",
    "        d = np.exp(6.16649394+0.01068143*size)\n",
    "        answer = ((a+b+c+d)/4)\n",
    "    return answer\n"
   ]
  },
  {
   "cell_type": "code",
   "execution_count": null,
   "metadata": {
    "collapsed": true
   },
   "outputs": [],
   "source": []
  }
 ],
 "metadata": {
  "kernelspec": {
   "display_name": "Python 3",
   "language": "python",
   "name": "python3"
  },
  "language_info": {
   "codemirror_mode": {
    "name": "ipython",
    "version": 3
   },
   "file_extension": ".py",
   "mimetype": "text/x-python",
   "name": "python",
   "nbconvert_exporter": "python",
   "pygments_lexer": "ipython3",
   "version": "3.6.1"
  }
 },
 "nbformat": 4,
 "nbformat_minor": 2
}
